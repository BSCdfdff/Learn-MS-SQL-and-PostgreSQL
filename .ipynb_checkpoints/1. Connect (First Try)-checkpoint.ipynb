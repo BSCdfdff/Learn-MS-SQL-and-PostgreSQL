{
 "cells": [
  {
   "cell_type": "markdown",
   "metadata": {},
   "source": [
    "# Connect\n",
    "____\n"
   ]
  },
  {
   "cell_type": "markdown",
   "metadata": {},
   "source": [
    "## First Connection\n",
    "\n",
    "____\n",
    "\n",
    "Using psycopg2 python class\n",
    "\n"
   ]
  },
  {
   "cell_type": "code",
   "execution_count": null,
   "metadata": {},
   "outputs": [],
   "source": [
    "import psycopg2"
   ]
  },
  {
   "cell_type": "code",
   "execution_count": 7,
   "metadata": {},
   "outputs": [],
   "source": [
    "connection = psycopg2.connect(user = \"postgres\",\n",
    "                                  password = \"9300273\",\n",
    "                                  host = \"127.0.0.1\",\n",
    "                                  port = \"5432\",\n",
    "                                  database = \"postgres\")"
   ]
  },
  {
   "cell_type": "code",
   "execution_count": 8,
   "metadata": {},
   "outputs": [
    {
     "name": "stdout",
     "output_type": "stream",
     "text": [
      "{'user': 'postgres', 'dbname': 'postgres', 'host': '127.0.0.1', 'port': '5432', 'tty': '', 'options': '', 'sslmode': 'prefer', 'sslcompression': '0', 'gssencmode': 'prefer', 'krbsrvname': 'postgres', 'target_session_attrs': 'any'} \n",
      "\n",
      "You are connected to -  ('PostgreSQL 12.2 (Debian 12.2-2.pgdg100+1) on x86_64-pc-linux-gnu, compiled by gcc (Debian 8.3.0-6) 8.3.0, 64-bit',) \n",
      "\n"
     ]
    }
   ],
   "source": [
    "cursor = connection.cursor()\n",
    "# Print PostgreSQL Connection properties\n",
    "print ( connection.get_dsn_parameters(),\"\\n\")\n",
    "\n",
    "# Print PostgreSQL version\n",
    "cursor.execute(\"SELECT version();\")\n",
    "record = cursor.fetchone()\n",
    "print(\"You are connected to - \", record,\"\\n\")"
   ]
  },
  {
   "cell_type": "code",
   "execution_count": 9,
   "metadata": {},
   "outputs": [
    {
     "name": "stdout",
     "output_type": "stream",
     "text": [
      "Table created successfully in PostgreSQL \n"
     ]
    }
   ],
   "source": [
    "create_table_query = '''CREATE TABLE clients\n",
    "          (clientid INT PRIMARY KEY     NOT NULL,\n",
    "          name           char(50)    NOT NULL,\n",
    "          surname         char(50)    NOT NULL); '''\n",
    "    \n",
    "cursor.execute(create_table_query)\n",
    "connection.commit()\n",
    "print(\"Table created successfully in PostgreSQL \")"
   ]
  },
  {
   "cell_type": "code",
   "execution_count": 10,
   "metadata": {},
   "outputs": [
    {
     "name": "stdout",
     "output_type": "stream",
     "text": [
      "Table created successfully in PostgreSQL \n"
     ]
    }
   ],
   "source": [
    "create_table_query = '''CREATE TABLE Orders\n",
    "          (ordernum INT PRIMARY KEY     NOT NULL,\n",
    "          clientid           int    NOT NULL,\n",
    "          orderdate         Date    NOT NULL); '''\n",
    "    \n",
    "cursor.execute(create_table_query)\n",
    "connection.commit()\n",
    "print(\"Table created successfully in PostgreSQL \")"
   ]
  },
  {
   "cell_type": "code",
   "execution_count": 11,
   "metadata": {},
   "outputs": [
    {
     "name": "stdout",
     "output_type": "stream",
     "text": [
      "Table created successfully in PostgreSQL \n"
     ]
    }
   ],
   "source": [
    "create_table_query = '''INSERT INTO clients \n",
    "    (clientid, name, surname)\n",
    "    VALUES (1,'John','Doe'),\n",
    "    (2, 'Jane','Doe'),\n",
    "    (3, 'Mike','Jones');'''\n",
    "cursor.execute(create_table_query)\n",
    "connection.commit()\n",
    "print(\"Table created successfully in PostgreSQL \")"
   ]
  },
  {
   "cell_type": "code",
   "execution_count": 12,
   "metadata": {},
   "outputs": [
    {
     "name": "stdout",
     "output_type": "stream",
     "text": [
      "Table created successfully in PostgreSQL \n"
     ]
    }
   ],
   "source": [
    "create_table_query = '''INSERT INTO Orders \n",
    "    (ordernum, clientiD, orderdate)\n",
    "    VALUES (101,1,'2015-12-28'),\n",
    "    (102,2,'2016-01-08'),\n",
    "    (103,2,'2016-01-09'),\n",
    "    (104,1,'2016-02-12'),\n",
    "    (105,1,'2016-02-28'),\n",
    "    (106,3,'2016-02-28');'''\n",
    "cursor.execute(create_table_query)\n",
    "connection.commit()\n",
    "print(\"Table created successfully in PostgreSQL \")"
   ]
  },
  {
   "cell_type": "code",
   "execution_count": 13,
   "metadata": {},
   "outputs": [
    {
     "name": "stdout",
     "output_type": "stream",
     "text": [
      "1 John                                               Doe                                               \n",
      "2 Jane                                               Doe                                               \n",
      "3 Mike                                               Jones                                             \n"
     ]
    }
   ],
   "source": [
    "cursor.execute(\"Select * from clients;\")\n",
    "# record = cursor.fetchall()\n",
    "# print(record,\"\\n\")\n",
    "rows = cursor.fetchall()\n",
    "for row in rows:\n",
    "    print(f\"{row[0]} {row[1]} {row[2]}\")"
   ]
  },
  {
   "cell_type": "code",
   "execution_count": 14,
   "metadata": {},
   "outputs": [
    {
     "name": "stdout",
     "output_type": "stream",
     "text": [
      "101 1 2015-12-28\n",
      "102 2 2016-01-08\n",
      "103 2 2016-01-09\n",
      "104 1 2016-02-12\n",
      "105 1 2016-02-28\n",
      "106 3 2016-02-28\n"
     ]
    }
   ],
   "source": [
    "cursor.execute(\"Select * from orders;\")\n",
    "# record = cursor.fetchall()\n",
    "# print(record,\"\\n\")\n",
    "rows = cursor.fetchall()\n",
    "\n",
    "for row in rows:\n",
    "    print(f\"{row[0]} {row[1]} {row[2]}\")"
   ]
  },
  {
   "cell_type": "code",
   "execution_count": 15,
   "metadata": {},
   "outputs": [
    {
     "name": "stdout",
     "output_type": "stream",
     "text": [
      "John                                               Doe                                                3\n"
     ]
    }
   ],
   "source": [
    "cursor.execute(\"select A.name, A.surname, \\\n",
    "            count(A.clientid) as totalorders \\\n",
    "            from clients A, orders B \\\n",
    "            where A.clientId = b.clientID \\\n",
    "            AND A.clientid = 1 \\\n",
    "            group by A.clientid;\")\n",
    "# record = cursor.fetchall()\n",
    "# print(record,\"\\n\")\n",
    "rows = cursor.fetchall()\n",
    "for row in rows:\n",
    "    print(f\"{row[0]} {row[1]} {row[2]}\")"
   ]
  },
  {
   "cell_type": "code",
   "execution_count": 16,
   "metadata": {},
   "outputs": [
    {
     "name": "stdout",
     "output_type": "stream",
     "text": [
      "Jane                                               Doe                                                2\n"
     ]
    }
   ],
   "source": [
    "cursor.execute(\"select A.name, A.surname, \\\n",
    "            count(A.clientid) as totalorders \\\n",
    "            from clients A, orders B \\\n",
    "            where A.clientId = b.clientID \\\n",
    "            AND A.clientid = 2 \\\n",
    "            group by A.clientid;\")\n",
    "# record = cursor.fetchall()\n",
    "# print(record,\"\\n\")\n",
    "rows = cursor.fetchall()\n",
    "for row in rows:\n",
    "    print(f\"{row[0]} {row[1]} {row[2]}\")"
   ]
  },
  {
   "cell_type": "code",
   "execution_count": 17,
   "metadata": {},
   "outputs": [
    {
     "name": "stdout",
     "output_type": "stream",
     "text": [
      "Mike                                               Jones                                              1\n"
     ]
    }
   ],
   "source": [
    "cursor.execute(\"select A.name, A.surname, \\\n",
    "            count(A.clientid) as totalorders \\\n",
    "            from clients A, orders B \\\n",
    "            where A.clientId = b.clientID \\\n",
    "            AND A.clientid = 3 \\\n",
    "            group by A.clientid;\")\n",
    "# record = cursor.fetchall()\n",
    "# print(record,\"\\n\")\n",
    "rows = cursor.fetchall()\n",
    "for row in rows:\n",
    "    print(f\"{row[0]} {row[1]} {row[2]}\")"
   ]
  },
  {
   "cell_type": "code",
   "execution_count": 18,
   "metadata": {},
   "outputs": [
    {
     "name": "stdout",
     "output_type": "stream",
     "text": [
      "PostgreSQL connection is closed\n"
     ]
    }
   ],
   "source": [
    "if(connection):\n",
    "    cursor.close()\n",
    "    connection.close()\n",
    "    print(\"PostgreSQL connection is closed\")"
   ]
  },
  {
   "cell_type": "code",
   "execution_count": null,
   "metadata": {},
   "outputs": [],
   "source": []
  },
  {
   "cell_type": "code",
   "execution_count": null,
   "metadata": {},
   "outputs": [],
   "source": []
  },
  {
   "cell_type": "code",
   "execution_count": null,
   "metadata": {},
   "outputs": [],
   "source": []
  },
  {
   "cell_type": "code",
   "execution_count": null,
   "metadata": {},
   "outputs": [],
   "source": []
  }
 ],
 "metadata": {
  "kernelspec": {
   "display_name": "Python 3",
   "language": "python",
   "name": "python3"
  },
  "language_info": {
   "codemirror_mode": {
    "name": "ipython",
    "version": 3
   },
   "file_extension": ".py",
   "mimetype": "text/x-python",
   "name": "python",
   "nbconvert_exporter": "python",
   "pygments_lexer": "ipython3",
   "version": "3.8.2"
  }
 },
 "nbformat": 4,
 "nbformat_minor": 2
}
