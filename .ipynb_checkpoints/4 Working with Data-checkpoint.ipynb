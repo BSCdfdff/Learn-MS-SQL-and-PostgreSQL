{
 "cells": [
  {
   "cell_type": "markdown",
   "metadata": {},
   "source": [
    "# Working with Data\n",
    "\n",
    "____\n",
    "\n",
    "+ Here we have two sets of data (console games and consoles)\n",
    "+ And prepare queuries based on this data\n",
    "+ Working with Arithmetic data types\n",
    "\n",
    "\n",
    "1. Create a Console Database\n",
    "2. Create Console Games Table, and import the data\n",
    "3. Create Consoles Table, and import the data\n",
    "4. Working with arithmetic data\n",
    "5. Order by Clause\n",
    "6. Working with String Functions\n",
    "7. Working with Dates.\n",
    "8. Implicit Date Conversion\n",
    "9. Working with NULLs"
   ]
  },
  {
   "cell_type": "markdown",
   "metadata": {},
   "source": [
    "## \n",
    "____\n",
    "\n",
    "Calculate the % of Global Sales compared to North America.\n",
    "\n",
    "\n",
    "We need to add an additional column to the console games table\n",
    "\n",
    "ALTER TABLE console_games\n",
    "ADD COLUMN Global_Sales float8;\n",
    "\n",
    "\n",
    "\n",
    "\n",
    "\n"
   ]
  },
  {
   "cell_type": "code",
   "execution_count": null,
   "metadata": {},
   "outputs": [],
   "source": []
  },
  {
   "cell_type": "code",
   "execution_count": 1,
   "metadata": {},
   "outputs": [],
   "source": [
    "import psycopg2\n"
   ]
  },
  {
   "cell_type": "code",
   "execution_count": 2,
   "metadata": {},
   "outputs": [],
   "source": [
    "connection = psycopg2.connect(user = \"postgres\",\n",
    "                                  password = \"9300273\",\n",
    "                                  host = \"127.0.0.1\",\n",
    "                                  port = \"5432\",\n",
    "                                  database = \"postgres\")\n",
    "cursor = connection.cursor()"
   ]
  },
  {
   "cell_type": "code",
   "execution_count": 3,
   "metadata": {},
   "outputs": [
    {
     "name": "stdout",
     "output_type": "stream",
     "text": [
      "Table dropped successfully \n"
     ]
    }
   ],
   "source": [
    "drop_table_query = \"DROP TABLE IF EXISTS console_games;\"\n",
    "    \n",
    "cursor.execute(drop_table_query)\n",
    "connection.commit()\n",
    "print(\"Table dropped successfully \")"
   ]
  },
  {
   "cell_type": "code",
   "execution_count": 4,
   "metadata": {},
   "outputs": [
    {
     "name": "stdout",
     "output_type": "stream",
     "text": [
      "Table dropped successfully \n"
     ]
    }
   ],
   "source": [
    "drop_table_query = \"DROP TABLE IF EXISTS console_dates;\"\n",
    "    \n",
    "cursor.execute(drop_table_query)\n",
    "connection.commit()\n",
    "print(\"Table dropped successfully \")"
   ]
  },
  {
   "cell_type": "code",
   "execution_count": 5,
   "metadata": {},
   "outputs": [
    {
     "name": "stdout",
     "output_type": "stream",
     "text": [
      "Table created successfully in PostgreSQL \n"
     ]
    }
   ],
   "source": [
    "create_table_query = '''CREATE TABLE console_games (\n",
    "    game_rank integer,\n",
    "    game_name varchar(1200),\n",
    "    platform varchar(1200),\n",
    "    game_year integer,\n",
    "    genre varchar(20),\n",
    "    publisher varchar(1200),\n",
    "    na_sales float8,\n",
    "    eu_sales float8,\n",
    "    jp_sales float8,\n",
    "    other_sales float8 ); '''\n",
    "    \n",
    "cursor.execute(create_table_query)\n",
    "connection.commit()\n",
    "print(\"Table created successfully in PostgreSQL \")"
   ]
  },
  {
   "cell_type": "code",
   "execution_count": 6,
   "metadata": {},
   "outputs": [
    {
     "name": "stdout",
     "output_type": "stream",
     "text": [
      "Table created successfully in PostgreSQL \n"
     ]
    }
   ],
   "source": [
    "create_table_query = '''CREATE TABLE console_dates (\n",
    "    platform_name char(120),\n",
    "    first_retail_availability date,\n",
    "    discontinued date,\n",
    "    units_sold_mill float8,\n",
    "    platform_comment varchar(120)); '''\n",
    "    \n",
    "cursor.execute(create_table_query)\n",
    "connection.commit()\n",
    "print(\"Table created successfully in PostgreSQL \")"
   ]
  },
  {
   "cell_type": "code",
   "execution_count": 7,
   "metadata": {},
   "outputs": [
    {
     "name": "stdout",
     "output_type": "stream",
     "text": [
      "Table populated in PostgreSQL \n"
     ]
    }
   ],
   "source": [
    "populate_table_query =\"\"\"COPY console_games FROM \n",
    "      '/media/disk3/projects/Postgresql/Learn MS SQL and PostgreSQL/data/section5/P9-ConsoleGames.csv'  \n",
    "      DELIMITER ',' CSV HEADER;\"\"\"    \n",
    "cursor.execute(populate_table_query)\n",
    "connection.commit()\n",
    "print(\"Table populated in PostgreSQL \")"
   ]
  },
  {
   "cell_type": "code",
   "execution_count": 8,
   "metadata": {},
   "outputs": [
    {
     "name": "stdout",
     "output_type": "stream",
     "text": [
      "Table populated in PostgreSQL \n"
     ]
    }
   ],
   "source": [
    "populate_table_query =\"\"\"COPY console_dates FROM \n",
    "      '/media/disk3/projects/Postgresql/Learn MS SQL and PostgreSQL/data/section5/P9-ConsoleDates.csv'  \n",
    "      DELIMITER ',' CSV HEADER;\"\"\"    \n",
    "cursor.execute(populate_table_query)\n",
    "connection.commit()\n",
    "print(\"Table populated in PostgreSQL \")"
   ]
  },
  {
   "cell_type": "markdown",
   "metadata": {},
   "source": [
    "## Workin with arithmetic data\n",
    "\n",
    "\n",
    "We need to add an additional column to the console games table\n",
    "\n",
    "ALTER TABLE console_games\n",
    "ADD COLUMN Global_Sales float8;\n",
    "\n",
    "And update the new global_Sales Column\n",
    "\n",
    "UPDATE public.console_games\n",
    "SET global_sales = na_sales + eu_sales + jp_sales + other_sales\n",
    "\n",
    "\n",
    "\n"
   ]
  },
  {
   "cell_type": "code",
   "execution_count": 9,
   "metadata": {},
   "outputs": [
    {
     "name": "stdout",
     "output_type": "stream",
     "text": [
      "Add Column in PostgreSQL \n"
     ]
    }
   ],
   "source": [
    "add_column_query =\"\"\"ALTER TABLE console_games\n",
    "    ADD COLUMN global_sales float8;\"\"\"    \n",
    "cursor.execute(add_column_query)\n",
    "connection.commit()\n",
    "print(\"Add Column in PostgreSQL \")"
   ]
  },
  {
   "cell_type": "code",
   "execution_count": 10,
   "metadata": {},
   "outputs": [
    {
     "name": "stdout",
     "output_type": "stream",
     "text": [
      "Update Global Sales Column in PostgreSQL \n"
     ]
    }
   ],
   "source": [
    "update_column_query =\"\"\"UPDATE public.console_games\n",
    "    SET global_sales = na_sales + eu_sales + jp_sales + other_sales;\"\"\"    \n",
    "cursor.execute(update_column_query)\n",
    "connection.commit()\n",
    "print(\"Update Global Sales Column in PostgreSQL \")"
   ]
  },
  {
   "cell_type": "markdown",
   "metadata": {},
   "source": [
    "## Queury: Percentage of NA sales of the global sales\n",
    "\n",
    "Create a new column for this : na_perc\n",
    "\n",
    "First thing, we alter the table (again)\n",
    "\n",
    "ALTER TABLE public.console_games\n",
    "Add COLUMN na_sales_perc float8;\n",
    "\n",
    "\n",
    "Here is the percentage queury: We also do not want to divide by zero:\n",
    "\n",
    "UPDATE public.console_games\n",
    "SET na_sales_perc = na_sales/global_sales *100\n",
    "WHERE global_sales > 0"
   ]
  },
  {
   "cell_type": "code",
   "execution_count": 11,
   "metadata": {},
   "outputs": [
    {
     "name": "stdout",
     "output_type": "stream",
     "text": [
      "Update Percentage Sales Column in PostgreSQL \n"
     ]
    }
   ],
   "source": [
    "update_column_query =\"\"\"ALTER TABLE public.console_games\n",
    "Add COLUMN na_sales_perc float8;\"\"\"    \n",
    "cursor.execute(update_column_query)\n",
    "connection.commit()\n",
    "print(\"Update Percentage Sales Column in PostgreSQL \")"
   ]
  },
  {
   "cell_type": "code",
   "execution_count": 13,
   "metadata": {},
   "outputs": [
    {
     "name": "stdout",
     "output_type": "stream",
     "text": [
      "Percentage Na Sales of Glocal Sales in PostgreSQL \n"
     ]
    }
   ],
   "source": [
    "perc_query =\"\"\"UPDATE public.console_games\n",
    " SET na_sales_perc = na_sales/global_sales * 100\n",
    " WHERE global_sales > 0;\"\"\"    \n",
    "cursor.execute(perc_query)\n",
    "connection.commit()\n",
    "print(\"Percentage Na Sales of Glocal Sales in PostgreSQL \")"
   ]
  },
  {
   "cell_type": "markdown",
   "metadata": {},
   "source": [
    "## Order By\n",
    "\n",
    "Sorted by column in ascending or descending order\n",
    "\n",
    "Select * from public.console_games\n",
    "ORDER By game_rank ASC\n",
    "\n",
    "Here is goog\n",
    "\n",
    "\n",
    "Select * from public.console_games\n",
    "ORDER By platform ASC, game_year DESC;\n",
    "\n",
    "For this statement, we get the LAST (sorted as the first line) that was released for this platform, meaning game_year is descending, so it will be the oldest \"year\" for that platform; that was the last game that was released for that platform\n",
    "\n",
    "The above is best use of ORDER By, that is to order by numbers. But we can also order my names.(another use)"
   ]
  },
  {
   "cell_type": "code",
   "execution_count": 21,
   "metadata": {},
   "outputs": [
    {
     "name": "stdout",
     "output_type": "stream",
     "text": [
      "1 Wii Sports 41.49  82.74000000000001 50.14503263234228 \n",
      "2 Super Mario Bros. 29.08  40.24 72.26640159045725 \n",
      "3 Mario Kart Wii 15.85  35.830000000000005 44.236673178900354 \n",
      "4 Wii Sports Resort 15.75  33.0 47.72727272727273 \n",
      "5 Pokemon Red/Pokemon Blue 11.27  31.380000000000003 35.91459528362014 \n",
      "6 Tetris 23.2  30.259999999999998 76.66886979510906 \n",
      "7 New Super Mario Bros. 11.38  30.009999999999998 37.92069310229924 \n",
      "8 Wii Play 14.03  29.009999999999998 48.362633574629434 \n",
      "9 New Super Mario Bros. Wii 14.59  28.61 50.99615519049283 \n",
      "10 Duck Hunt 26.93  28.31 95.12539738608265 \n"
     ]
    }
   ],
   "source": [
    "perc_query =\"\"\"Select * from public.console_games\n",
    "ORDER By game_rank ASC LIMIT 10;\"\"\"    \n",
    "cursor.execute(perc_query)\n",
    "rows = cursor.fetchall()\n",
    "for row in rows:\n",
    "    print(f\"{row[0]} {row[1]} {row[6]}  {row[10]} {row[11]} \")\n"
   ]
  },
  {
   "cell_type": "markdown",
   "metadata": {},
   "source": [
    "## Working with String Functions\n",
    "\n",
    "Finding the size of characters, using the length() statement: to find the lenght of a specific column\n",
    "\n",
    "\n",
    "SELECT game_name, length(game_name) as len FROM public.console_games\n",
    "WHERE length(game_name) > 0\n",
    "ORDER BY len ASC\n",
    "\n",
    "To get the first 4 left chars\n",
    "\n",
    "SELECT publisher, LEFT(publisher,4)  FROM public.console_games.\n",
    "\n",
    "Similar for RIGHT as well.\n",
    "\n",
    "\n",
    "Nice here the function is inside the select.\n",
    "\n",
    "Next: REVERSE just as it is, reverse order of characters.\n",
    "\n",
    "\n",
    "\n",
    "\n",
    "\n"
   ]
  },
  {
   "cell_type": "code",
   "execution_count": 24,
   "metadata": {},
   "outputs": [
    {
     "name": "stdout",
     "output_type": "stream",
     "text": [
      "10TACLE Studios | 10TA\n",
      "10TACLE Studios | 10TA\n",
      "10TACLE Studios | 10TA\n",
      "1C Company | 1C C\n",
      "1C Company | 1C C\n",
      "1C Company | 1C C\n",
      "20th Century Fox Video Games | 20th\n",
      "20th Century Fox Video Games | 20th\n",
      "20th Century Fox Video Games | 20th\n",
      "20th Century Fox Video Games | 20th\n"
     ]
    }
   ],
   "source": [
    "query =\"\"\"SELECT publisher, LEFT(publisher,4) FROM public.console_games\n",
    "ORDER BY publisher ASC LIMIT 10;\"\"\"    \n",
    "cursor.execute(query)\n",
    "rows = cursor.fetchall()\n",
    "for row in rows:\n",
    "    print(f\"{row[0]} | {row[1]}\")\n"
   ]
  },
  {
   "cell_type": "markdown",
   "metadata": {},
   "source": [
    "# Working with Dates.\n",
    "\n",
    "When you subtract one date from another date, the difference will be in number of days.\n",
    "\n",
    "Covering DATE_PART\n",
    "\n",
    "How to select which games was released in specific month\n",
    "\n",
    "SELECT * FROM public.console_dates\n",
    "WHERE DATE_PART('month',first_retail_availability) - 11 = 0\n",
    "\n",
    "Next: AGE. Its is must better representation\n",
    "\n",
    "SELECT *, AGE(discontinued,first_retail_availability) as age FROM public.console_dates\n",
    "\n",
    "Output: \"Wii\"|\"6 years 11 mons 1 day\"\n",
    "\n",
    "Not sure why pyscopg2 displays only days\n"
   ]
  },
  {
   "cell_type": "code",
   "execution_count": 25,
   "metadata": {},
   "outputs": [
    {
     "name": "stdout",
     "output_type": "stream",
     "text": [
      "Wii                                                                                                                      | 2006-11-19\n",
      "DS                                                                                                                       | 2004-11-21\n",
      "X360                                                                                                                     | 2005-11-22\n",
      "PS3                                                                                                                      | 2006-11-11\n",
      "SNES                                                                                                                     | 1990-11-21\n",
      "PS4                                                                                                                      | 2013-11-15\n",
      "XB                                                                                                                       | 2001-11-15\n",
      "XOne                                                                                                                     | 2013-11-22\n",
      "WiiU                                                                                                                     | 2012-11-18\n",
      "DC                                                                                                                       | 1998-11-27\n",
      "SAT                                                                                                                      | 1994-11-22\n"
     ]
    }
   ],
   "source": [
    "query =\"\"\"SELECT * FROM public.console_dates\n",
    "WHERE DATE_PART('month',first_retail_availability) - 11 = 0;\"\"\"    \n",
    "cursor.execute(query)\n",
    "rows = cursor.fetchall()\n",
    "for row in rows:\n",
    "    print(f\"{row[0]} | {row[1]}\")"
   ]
  },
  {
   "cell_type": "code",
   "execution_count": 27,
   "metadata": {},
   "outputs": [
    {
     "name": "stdout",
     "output_type": "stream",
     "text": [
      "Wii                                                                                                                      | 2521 days, 0:00:00\n",
      "NES                                                                                                                      | 7370 days, 0:00:00\n",
      "GB                                                                                                                       | 5077 days, 0:00:00\n",
      "DS                                                                                                                       | 3464 days, 0:00:00\n",
      "X360                                                                                                                     | 3798 days, 0:00:00\n",
      "PS3                                                                                                                      | None\n",
      "PS2                                                                                                                      | 4674 days, 0:00:00\n",
      "SNES                                                                                                                     | 4684 days, 0:00:00\n",
      "GBA                                                                                                                      | 3200 days, 0:00:00\n",
      "3DS                                                                                                                      | None\n",
      "PS4                                                                                                                      | None\n",
      "N64                                                                                                                      | 2712 days, 0:00:00\n",
      "PS                                                                                                                       | 3768 days, 0:00:00\n",
      "XB                                                                                                                       | 2662 days, 0:00:00\n",
      "2600                                                                                                                     | 5220 days, 0:00:00\n",
      "PSP                                                                                                                      | 3669 days, 0:00:00\n",
      "XOne                                                                                                                     | None\n",
      "GC                                                                                                                       | 2297 days, 0:00:00\n",
      "WiiU                                                                                                                     | None\n",
      "GEN                                                                                                                      | 3347 days, 0:00:00\n",
      "DC                                                                                                                       | 854 days, 0:00:00\n",
      "PSV                                                                                                                      | None\n",
      "SAT                                                                                                                      | 2229 days, 0:00:00\n",
      "SCD                                                                                                                      | 1844 days, 0:00:00\n",
      "WS                                                                                                                       | 1757 days, 0:00:00\n",
      "NG                                                                                                                       | 2370 days, 0:00:00\n",
      "TG16                                                                                                                     | 2602 days, 0:00:00\n",
      "3DO                                                                                                                      | 1182 days, 0:00:00\n",
      "GG                                                                                                                       | 2394 days, 0:00:00\n",
      "PCFX                                                                                                                     | 1134 days, 0:00:00\n"
     ]
    }
   ],
   "source": [
    "#display output incorrectly. It should be: \"Wii\"|\"6 years 11 mons 1 day\"\n",
    "\n",
    "query =\"\"\"\n",
    "SELECT platform_name, AGE(discontinued,first_retail_availability) as Aged \n",
    "FROM public.console_dates;\"\"\"    \n",
    "cursor.execute(query)\n",
    "rows = cursor.fetchall()\n",
    "for row in rows:\n",
    "    print(f\"{row[0]} | {row[1]}\")"
   ]
  },
  {
   "cell_type": "markdown",
   "metadata": {},
   "source": [
    "## Implicit Data Conversion\n",
    "\n",
    "Most of time just drop tale and create a ne one.\n",
    "\n",
    "Othertimes we manipulate data within the same table.\n",
    "\n",
    "If we look at game_year (console_games table) its an integer, number, that is 4 numbers.\n",
    "\n",
    "And we want to change this column from int to varchar, as we only need 4 chars, so varchar(4)\n",
    "\n",
    "Here we will use the CAST function:\n",
    "\n",
    "SELECT CAST(game_year as varchar(4)) FROM public.console_games\n",
    "ORDER BY game_rank\n",
    "\n",
    "A better syntax, more 2020's\n",
    "\n",
    "SELECT game_year::varchar(4) FROM public.console_games\n",
    "ORDER BY game_rank\n",
    "\n",
    "How do we convert now to date?\n",
    "\n",
    "We use a combination of the above, AND to_date() function. So we can change to_X data type"
   ]
  },
  {
   "cell_type": "code",
   "execution_count": 30,
   "metadata": {},
   "outputs": [
    {
     "name": "stdout",
     "output_type": "stream",
     "text": [
      "2006\n",
      "1985\n",
      "2008\n",
      "2009\n",
      "1996\n",
      "1989\n",
      "2006\n",
      "2006\n",
      "2009\n",
      "1984\n"
     ]
    }
   ],
   "source": [
    "query =\"\"\"SELECT game_year::varchar(4) FROM public.console_games\n",
    "ORDER BY game_rank LIMIT 10;\"\"\"    \n",
    "cursor.execute(query)\n",
    "rows = cursor.fetchall()\n",
    "for row in rows:\n",
    "    print(f\"{row[0]}\")"
   ]
  },
  {
   "cell_type": "code",
   "execution_count": 32,
   "metadata": {},
   "outputs": [
    {
     "name": "stdout",
     "output_type": "stream",
     "text": [
      "2006-01-01\n",
      "1985-01-01\n",
      "2008-01-01\n",
      "2009-01-01\n",
      "1996-01-01\n",
      "1989-01-01\n",
      "2006-01-01\n",
      "2006-01-01\n",
      "2009-01-01\n",
      "1984-01-01\n"
     ]
    }
   ],
   "source": [
    "query =\"\"\"SELECT to_date(CAST(game_year as varchar(4)), 'yyyy') \n",
    "FROM public.console_games\n",
    "ORDER BY game_rank LIMIT 10;\"\"\"    \n",
    "cursor.execute(query)\n",
    "rows = cursor.fetchall()\n",
    "for row in rows:\n",
    "    print(f\"{row[0]}\")"
   ]
  },
  {
   "cell_type": "markdown",
   "metadata": {},
   "source": [
    "##  Working with NULLs\n",
    "\n",
    "Missing data\n",
    "\n",
    "How to find or deal with NULLS\n",
    "\n",
    "\n",
    "SELECT * FROM public.console_games\n",
    "WHERE game_name IS NULL;"
   ]
  },
  {
   "cell_type": "code",
   "execution_count": null,
   "metadata": {},
   "outputs": [],
   "source": []
  },
  {
   "cell_type": "code",
   "execution_count": null,
   "metadata": {},
   "outputs": [],
   "source": []
  },
  {
   "cell_type": "code",
   "execution_count": null,
   "metadata": {},
   "outputs": [],
   "source": [
    "if(connection):\n",
    "    cursor.close()\n",
    "    connection.close()\n",
    "    print(\"PostgreSQL connection is closed\")"
   ]
  },
  {
   "cell_type": "code",
   "execution_count": null,
   "metadata": {},
   "outputs": [],
   "source": []
  },
  {
   "cell_type": "code",
   "execution_count": null,
   "metadata": {},
   "outputs": [],
   "source": []
  },
  {
   "cell_type": "code",
   "execution_count": null,
   "metadata": {},
   "outputs": [],
   "source": []
  },
  {
   "cell_type": "code",
   "execution_count": null,
   "metadata": {},
   "outputs": [],
   "source": []
  }
 ],
 "metadata": {
  "kernelspec": {
   "display_name": "Python 3",
   "language": "python",
   "name": "python3"
  },
  "language_info": {
   "codemirror_mode": {
    "name": "ipython",
    "version": 3
   },
   "file_extension": ".py",
   "mimetype": "text/x-python",
   "name": "python",
   "nbconvert_exporter": "python",
   "pygments_lexer": "ipython3",
   "version": "3.8.2"
  }
 },
 "nbformat": 4,
 "nbformat_minor": 2
}
