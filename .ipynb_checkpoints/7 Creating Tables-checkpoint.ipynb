{
 "cells": [
  {
   "cell_type": "markdown",
   "metadata": {},
   "source": [
    "# Joins\n",
    "\n",
    "____\n",
    "\n",
    "+ Creating Database\n",
    "+ Create Database\n",
    "+ Insert Data\n",
    "+ Alter Table\n",
    "+ Drop Table\n",
    "\n"
   ]
  },
  {
   "attachments": {},
   "cell_type": "markdown",
   "metadata": {},
   "source": [
    "## Create a Database\n",
    "____\n",
    "\n",
    "\n",
    "```\n",
    "CREATE DATABASE myDatabase;\n",
    "```\n",
    "\n",
    "One line to create a database.\n"
   ]
  },
  {
   "cell_type": "markdown",
   "metadata": {},
   "source": [
    "## Create a Table\n",
    "____\n",
    "\n",
    "More involved in creating a database\n",
    "\n",
    "Here we get use to the syntax and understanding the logic.\n",
    "\n",
    "```\n",
    "CREATE TABLE MOVIES();\n",
    "\n",
    "```\n",
    "\n",
    "Here we create a table without any columns.\n",
    "\n",
    "or we can:\n",
    "\n",
    "```\n",
    "CREATE TABLE MOVIES(\n",
    " movie_name VARCHAR(200), \n",
    " movie_year INTEGER,\n",
    " country VARCHAR(100);\t\n",
    " genre \tVARCHAR\n",
    ");\n",
    "```\n",
    "\n",
    "Note genre does not have any constrait (limit), whereas the others do have\n",
    "\n",
    "But what is the a unique key for this table, that is which of the above fields can be priary key? None of the above columns can be used as a primary key.\n",
    "\n",
    "What can we used as a primary key...can be a combinaation of keys:movie_name and movie_year, that is no two movies are produced in the same year, has the exact same name.\n",
    "\n",
    "```\n",
    "CREATE TABLE MOVIES(\n",
    " movie_name VARCHAR(200), \n",
    " movie_year INTEGER,\n",
    " country VARCHAR(100);\t\n",
    " genre \tVARCHAR,\n",
    " PRIMARY KEY (movie_name, movie_year)\n",
    ");\n",
    "\n",
    "```\n",
    "\n",
    "Once created, we still have the same columns, but now under constraints we have the following:\n",
    "\n",
    "movies_pkey - this is the primary key for movies.\n",
    "\n",
    "\n",
    "Ways to improve our database. That is not, allowing null values. By default movie name and movie year will not allow nulls. Country can be omitted, but genre we need.\n",
    "\n",
    "\n",
    "```\n",
    "CREATE TABLE MOVIES(\n",
    " movie_name VARCHAR(200), \n",
    " movie_year INTEGER,\n",
    " country VARCHAR(100);\t\n",
    " genre VARCHAR NOT NULL,\n",
    " PRIMARY KEY (movie_name, movie_year)\n",
    ");\n",
    "\n",
    "```"
   ]
  },
  {
   "cell_type": "markdown",
   "metadata": {},
   "source": [
    "## Insert Data\n",
    "\n",
    "____\n",
    "\n",
    "Using:\n",
    "\n",
    "COPY console_dates FROM \n",
    "      '/media/disk3/projects/Postgresql/Learn MS SQL and PostgreSQL/data/section5/P9-ConsoleDates.csv'  \n",
    "      DELIMITER ',' CSV HEADER;\n",
    "      \n",
    "Using:\n",
    "\n",
    "INSERT INTO <table>\n",
    "    VALUES ()"
   ]
  },
  {
   "cell_type": "markdown",
   "metadata": {},
   "source": [
    "## Alter Table\n",
    "____\n",
    "\n",
    "ALTER TABLE movies\n",
    "ALTER Column country SET DEFAULT 'USA';\n",
    "\n",
    "Or \n",
    "ADD/ALTER/DELETE/DROP column\n",
    "\n",
    "This is were we do not specify the country when we insert into the table."
   ]
  },
  {
   "cell_type": "markdown",
   "metadata": {},
   "source": [
    "## Drop Table\n",
    "___\n",
    "\n",
    "DROP table - single table\n",
    "DROP CASCASE <object> will drop table (example), and anything that is dependent on it. E,g if you drop country column, and column is used in another table, then the latter country column will also be dropped. \n",
    "\n",
    "All the is code, can be done with wizard inside pgadmin."
   ]
  },
  {
   "cell_type": "code",
   "execution_count": null,
   "metadata": {},
   "outputs": [],
   "source": []
  }
 ],
 "metadata": {
  "kernelspec": {
   "display_name": "Python 3",
   "language": "python",
   "name": "python3"
  },
  "language_info": {
   "codemirror_mode": {
    "name": "ipython",
    "version": 3
   },
   "file_extension": ".py",
   "mimetype": "text/x-python",
   "name": "python",
   "nbconvert_exporter": "python",
   "pygments_lexer": "ipython3",
   "version": "3.8.2"
  }
 },
 "nbformat": 4,
 "nbformat_minor": 2
}
