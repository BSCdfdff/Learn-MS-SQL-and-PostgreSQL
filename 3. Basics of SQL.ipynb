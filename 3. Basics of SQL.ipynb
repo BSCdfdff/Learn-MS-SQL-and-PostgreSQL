{
 "cells": [
  {
   "cell_type": "markdown",
   "metadata": {},
   "source": [
    "# Basics of SQL\n",
    "\n",
    "____\n",
    "\n",
    "+ Select Queury (Contains SELECT and FROM Clauses)\n",
    "+ \n",
    "+ \n"
   ]
  },
  {
   "cell_type": "markdown",
   "metadata": {},
   "source": [
    "## Select Queury\n",
    "____\n",
    "\n",
    "SELECT specifies the columns that needs to be outputted. Or we can specify a wildcard, * to display a wildcard.\n",
    "\n",
    "FROM specifies the tables to be used.\n",
    "\n",
    "\n",
    "SELECT column1, column2 FROM table1 \n",
    "SELECT * FROM table1\n",
    "\n",
    "\n"
   ]
  },
  {
   "cell_type": "markdown",
   "metadata": {},
   "source": [
    "## WHERE Filter\n",
    "\n",
    "Filtering data with WHERE Clause\n",
    "\n",
    "SELECT * FROM table1 WHERE column = 'NY'"
   ]
  },
  {
   "cell_type": "markdown",
   "metadata": {},
   "source": [
    "##  Logical Conditions\n",
    "\n",
    "AND and OR Clauses\n",
    "\n",
    "SELECT * FROM table1 WHERE column = 'NY'\n",
    "AND column2 = 'TOM'\n",
    "OR column3 = 'bt'"
   ]
  },
  {
   "cell_type": "markdown",
   "metadata": {},
   "source": [
    "## Wildcard Characters\n",
    "\n",
    "Using the LIKE Clause\n",
    "\n",
    "Where the % represents one or more characters.\n",
    "\n",
    "SELECT * FROM table1 WHERE column = 'NY'\n",
    "AND column2 = 'TOM'\n",
    "OR column3 LIKE '%\n",
    "\n"
   ]
  },
  {
   "cell_type": "markdown",
   "metadata": {},
   "source": [
    "## Comments on SQL\n",
    "\n",
    "-- This is a comment\n",
    "\n",
    "or \n",
    "\n",
    "/*\n",
    "This is a block comment\n",
    "\n",
    "*/"
   ]
  },
  {
   "cell_type": "code",
   "execution_count": null,
   "metadata": {},
   "outputs": [],
   "source": []
  },
  {
   "cell_type": "code",
   "execution_count": 1,
   "metadata": {},
   "outputs": [],
   "source": [
    "import psycopg2"
   ]
  },
  {
   "cell_type": "code",
   "execution_count": 2,
   "metadata": {},
   "outputs": [],
   "source": [
    "connection = psycopg2.connect(user = \"postgres\",\n",
    "                                  password = \"9300273\",\n",
    "                                  host = \"127.0.0.1\",\n",
    "                                  port = \"5432\",\n",
    "                                  database = \"postgres\")"
   ]
  },
  {
   "cell_type": "code",
   "execution_count": null,
   "metadata": {},
   "outputs": [],
   "source": [
    "if(connection):\n",
    "    cursor.close()\n",
    "    connection.close()\n",
    "    print(\"PostgreSQL connection is closed\")"
   ]
  },
  {
   "cell_type": "code",
   "execution_count": null,
   "metadata": {},
   "outputs": [],
   "source": []
  },
  {
   "cell_type": "code",
   "execution_count": null,
   "metadata": {},
   "outputs": [],
   "source": []
  },
  {
   "cell_type": "code",
   "execution_count": null,
   "metadata": {},
   "outputs": [],
   "source": []
  },
  {
   "cell_type": "code",
   "execution_count": null,
   "metadata": {},
   "outputs": [],
   "source": []
  }
 ],
 "metadata": {
  "kernelspec": {
   "display_name": "Python 3",
   "language": "python",
   "name": "python3"
  },
  "language_info": {
   "codemirror_mode": {
    "name": "ipython",
    "version": 3
   },
   "file_extension": ".py",
   "mimetype": "text/x-python",
   "name": "python",
   "nbconvert_exporter": "python",
   "pygments_lexer": "ipython3",
   "version": "3.8.2"
  }
 },
 "nbformat": 4,
 "nbformat_minor": 2
}
